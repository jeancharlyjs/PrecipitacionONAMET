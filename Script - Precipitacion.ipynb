{
 "cells": [
  {
   "cell_type": "markdown",
   "id": "1e6c5b1d",
   "metadata": {},
   "source": [
    "# <center>Datos de la Oficina Nacional de Meteorología</center>\n",
    "##### <p>Elaborador por: </p>\n",
    "### Unidad de Monitoreo y Evaluacion de las Funciones de Vigilancia y Control Epidemiologico\n",
    "###### - Integrante: \n",
    "\n",
    "* Jean Charly Ph. Joseph S.\n",
    "\n",
    "## Detalles\n",
    "Este Script permite modificar la forma en la que llegan los datos Meteorológicos, modificando tanto la forma como también su contenido, modificando lo siguiente: \n",
    "* Fecha\n",
    "* Estructura del Dato\n",
    "* Agregando Semana Epidemiología\n",
    "\n",
    "Generando un Excel, con los datos listo para su uso.\n",
    "\n",
    "Ejemplo como llegan.\n",
    "\n",
    "|Dia |ENE |FEB |MAR |ABR |MAYO |\n",
    "|-------|-------|-------|-------|-------|-------|\n",
    "|1|0.0 |0.0 |1.0 | 2.1 | 3.0|\n",
    "|2|0.0 |0.0 |1.0 | 2.1 | 3.0|\n",
    "|3|0.0 |0.0 |1.0 | 2.1 | 3.0|\n",
    "|4|0.0 |0.0 |1.0 | 2.1 | 3.0|\n",
    "|5|0.0 |0.0 |1.0 | 2.1 | 3.0|\n",
    "|6|0.0 |0.0 |1.0 | 2.1 | 3.0|"
   ]
  },
  {
   "cell_type": "markdown",
   "id": "2115434e",
   "metadata": {},
   "source": [
    "## Importacion de Librerias\n"
   ]
  },
  {
   "cell_type": "code",
   "execution_count": 425,
   "id": "c33fdae7",
   "metadata": {},
   "outputs": [],
   "source": [
    "import os\n",
    "import re\n",
    "\n",
    "from pandas import read_excel\n",
    "from pandas import DataFrame, Series\n",
    "from pandas import isnull, notnull\n",
    "from pandas import concat, date_range\n",
    "from pandas import ExcelWriter\n",
    "\n",
    "from openpyxl import load_workbook\n",
    "from openpyxl import Workbook\n"
   ]
  },
  {
   "cell_type": "code",
   "execution_count": 426,
   "id": "04f433e6",
   "metadata": {},
   "outputs": [
    {
     "name": "stdout",
     "output_type": "stream",
     "text": [
      "0 PRECIPITACION\n",
      "1 T.MAX\n",
      "2 T.MIN\n",
      "3 H.RELATIVA\n",
      "4 PRECIPITACION 2016\n",
      "5 PRECIPITACION 2017\n",
      "6 PRECIPITACION 2018\n",
      "7 PRECIPITACION 2019\n",
      "8 PRECIPITACION 2020\n",
      "9 T.MAX 2016\n",
      "10 T.MAX.2017\n",
      "11 T.MAX.2018\n",
      "12 T.MAX.2019\n",
      "13 T.MAX.2020\n",
      "14 T.MIN 2016\n",
      "15 T. MAN.2017\n",
      "16 T.MIN.2018\n",
      "17 T.MIN.2019\n",
      "18 T.MIN.2029\n",
      "19 H.RELATIVA (2016)\n",
      "20 H.RELATIVA.2017\n",
      "21 H.RELATIVA.2018\n",
      "22 H.RELATIVA.2019\n",
      "23 H.RELATIVA.2020\n"
     ]
    }
   ],
   "source": [
    "file = 'PUNTA CANA  .xlsx'\n",
    "Libro = load_workbook(file)\n",
    "hoja = Libro.sheetnames\n",
    "count = 0\n",
    "for i in range(len(hoja)):\n",
    "    print(i, hoja[count])\n",
    "    count += 1\n",
    "\n"
   ]
  },
  {
   "cell_type": "markdown",
   "id": "7520d4c0",
   "metadata": {},
   "source": [
    "## Carga de DataSet"
   ]
  },
  {
   "cell_type": "code",
   "execution_count": 427,
   "id": "3582a363",
   "metadata": {},
   "outputs": [
    {
     "data": {
      "text/plain": [
       "'HRELATIVA'"
      ]
     },
     "execution_count": 427,
     "metadata": {},
     "output_type": "execute_result"
    }
   ],
   "source": [
    "indexSheetName = hoja[23]\n",
    "bookName = re.sub(r'[0-9.)(]+', '', str(indexSheetName).replace(' ', ''))\n",
    "ano = '2020'\n",
    "dataset = read_excel(file, sheet_name=indexSheetName)\n",
    "dataset = dataset.drop(dataset.index[31])\n",
    "bookName"
   ]
  },
  {
   "cell_type": "markdown",
   "id": "68c7ca87",
   "metadata": {},
   "source": [
    "### Enero"
   ]
  },
  {
   "cell_type": "code",
   "execution_count": 428,
   "id": "e261df47",
   "metadata": {},
   "outputs": [],
   "source": [
    "enero = dataset['ENE']\n",
    "fecha = DataFrame({'Fecha': date_range(f'01-01-{ano}', periods=31, freq='d')})\n",
    "enero_ = concat([fecha, enero], axis=1)\n",
    "enero_['SemanaEpi'] = enero_['Fecha'].dt.isocalendar().week\n",
    "# enero_"
   ]
  },
  {
   "cell_type": "markdown",
   "id": "9c1f817e",
   "metadata": {},
   "source": [
    "### Febrero"
   ]
  },
  {
   "cell_type": "code",
   "execution_count": 429,
   "id": "071e6523",
   "metadata": {},
   "outputs": [],
   "source": [
    "febrero = dataset['FEB']\n",
    "fecha = DataFrame({'Fecha': date_range(f'02-01-{ano}', periods=29, freq='d')})\n",
    "febrero_ = concat([fecha, febrero], axis=1)\n",
    "febrero_['SemanaEpi'] = febrero_['Fecha'].dt.isocalendar().week\n",
    "# febrero_"
   ]
  },
  {
   "cell_type": "markdown",
   "id": "54e03862",
   "metadata": {},
   "source": [
    "### Marzo"
   ]
  },
  {
   "cell_type": "code",
   "execution_count": 430,
   "id": "b3243883",
   "metadata": {},
   "outputs": [],
   "source": [
    "marzo = dataset['MAR']\n",
    "fecha = DataFrame({'Fecha': date_range(f'03-01-{ano}', periods=31, freq='d')})\n",
    "marzo_ = concat([fecha, marzo], axis=1)\n",
    "marzo_['SemanaEpi'] = marzo_['Fecha'].dt.isocalendar().week\n",
    "# marzo_"
   ]
  },
  {
   "cell_type": "markdown",
   "id": "ba43d2ee",
   "metadata": {},
   "source": [
    "### Abril"
   ]
  },
  {
   "cell_type": "code",
   "execution_count": 431,
   "id": "f3b2aa6d",
   "metadata": {},
   "outputs": [],
   "source": [
    "abril = dataset['ABR']\n",
    "fecha = DataFrame({'Fecha': date_range(f'04-01-{ano}', periods=31, freq='d')})\n",
    "abril_ = concat([fecha, abril], axis=1)\n",
    "abril_['SemanaEpi'] = abril_['Fecha'].dt.isocalendar().week\n",
    "# abril_"
   ]
  },
  {
   "cell_type": "markdown",
   "id": "7a721f76",
   "metadata": {},
   "source": [
    "### Mayo"
   ]
  },
  {
   "cell_type": "code",
   "execution_count": 432,
   "id": "e0accd7f",
   "metadata": {},
   "outputs": [],
   "source": [
    "mayo = dataset['MAY']\n",
    "fecha = DataFrame({'Fecha': date_range(f'05-01-{ano}', periods=31, freq='d')})\n",
    "mayo_ = concat([fecha, mayo], axis=1)\n",
    "mayo_['SemanaEpi'] = mayo_['Fecha'].dt.isocalendar().week\n",
    "# mayo_"
   ]
  },
  {
   "cell_type": "markdown",
   "id": "84b0c033",
   "metadata": {},
   "source": [
    "### Junio"
   ]
  },
  {
   "cell_type": "code",
   "execution_count": 433,
   "id": "2802161d",
   "metadata": {},
   "outputs": [],
   "source": [
    "junio = dataset['JUN']\n",
    "fecha = DataFrame({'Fecha': date_range(f'06-01-{ano}', periods=30, freq='d')})\n",
    "junio_ = concat([fecha, junio], axis=1)\n",
    "junio_['SemanaEpi'] = junio_['Fecha'].dt.isocalendar().week\n",
    "# junio_"
   ]
  },
  {
   "cell_type": "markdown",
   "id": "56a8096c",
   "metadata": {},
   "source": [
    "### Julio"
   ]
  },
  {
   "cell_type": "code",
   "execution_count": 434,
   "id": "1a9bf02a",
   "metadata": {},
   "outputs": [],
   "source": [
    "julio = dataset['JUL']\n",
    "fecha = DataFrame({'Fecha': date_range(f'07-01-{ano}', periods=31, freq='d')})\n",
    "julio_ = concat([fecha, julio], axis=1)\n",
    "julio_['SemanaEpi'] = julio_['Fecha'].dt.isocalendar().week\n",
    "# julio_"
   ]
  },
  {
   "cell_type": "markdown",
   "id": "8e1be86f",
   "metadata": {},
   "source": [
    "### Agosto"
   ]
  },
  {
   "cell_type": "code",
   "execution_count": 435,
   "id": "a96d70ba",
   "metadata": {},
   "outputs": [],
   "source": [
    "agosto = dataset['AGO']\n",
    "fecha = DataFrame({'Fecha': date_range(f'08-01-{ano}', periods=31, freq='d')})\n",
    "agosto_ = concat([fecha, agosto], axis=1)\n",
    "agosto_['SemanaEpi'] = agosto_['Fecha'].dt.isocalendar().week\n",
    "# agosto_"
   ]
  },
  {
   "cell_type": "markdown",
   "id": "024ca28c",
   "metadata": {},
   "source": [
    "### Septiembre"
   ]
  },
  {
   "cell_type": "code",
   "execution_count": 436,
   "id": "2454581f",
   "metadata": {},
   "outputs": [],
   "source": [
    "septiembre = dataset['SEP']\n",
    "fecha = DataFrame({'Fecha': date_range(f'09-01-{ano}', periods=30, freq='d')})\n",
    "septiembre_ = concat([fecha, septiembre], axis=1)\n",
    "septiembre_['SemanaEpi'] = septiembre_['Fecha'].dt.isocalendar().week\n",
    "# septiembre_"
   ]
  },
  {
   "cell_type": "markdown",
   "id": "76dbc2ca",
   "metadata": {},
   "source": [
    "### Octubre"
   ]
  },
  {
   "cell_type": "code",
   "execution_count": 437,
   "id": "9cc3cb9d",
   "metadata": {},
   "outputs": [],
   "source": [
    "octubre = dataset['OCT']\n",
    "fecha = DataFrame({'Fecha': date_range(f'10-01-{ano}', periods=31, freq='d')})\n",
    "octubre_ = concat([fecha, octubre], axis=1)\n",
    "octubre_['SemanaEpi'] = octubre_['Fecha'].dt.isocalendar().week\n",
    "# octubre_"
   ]
  },
  {
   "cell_type": "markdown",
   "id": "790a742c",
   "metadata": {},
   "source": [
    "### Noviembre"
   ]
  },
  {
   "cell_type": "code",
   "execution_count": 438,
   "id": "07b56ddc",
   "metadata": {},
   "outputs": [],
   "source": [
    "noviembre = dataset['NOV']\n",
    "fecha = DataFrame({'Fecha': date_range(f'11-01-{ano}', periods=30, freq='d')})\n",
    "noviembre_ = concat([fecha, noviembre], axis=1)\n",
    "noviembre_['SemanaEpi'] = noviembre_['Fecha'].dt.isocalendar().week\n",
    "# noviembre_"
   ]
  },
  {
   "cell_type": "markdown",
   "id": "63aadd3e",
   "metadata": {},
   "source": [
    "### Diciembre"
   ]
  },
  {
   "cell_type": "code",
   "execution_count": 439,
   "id": "d5bc183f",
   "metadata": {},
   "outputs": [],
   "source": [
    "diciembre = dataset['DIC']\n",
    "fecha = DataFrame({'Fecha': date_range(f'12-01-{ano}', periods=31, freq='d')})\n",
    "diciembre_ = concat([fecha, diciembre], axis=1)\n",
    "diciembre_['SemanaEpi'] = diciembre_['Fecha'].dt.isocalendar().week\n",
    "# diciembre_"
   ]
  },
  {
   "cell_type": "markdown",
   "id": "85c12f22",
   "metadata": {},
   "source": [
    "# Concatenar Meses"
   ]
  },
  {
   "cell_type": "code",
   "execution_count": 440,
   "id": "e0770e99",
   "metadata": {},
   "outputs": [
    {
     "data": {
      "text/html": [
       "<div>\n",
       "<style scoped>\n",
       "    .dataframe tbody tr th:only-of-type {\n",
       "        vertical-align: middle;\n",
       "    }\n",
       "\n",
       "    .dataframe tbody tr th {\n",
       "        vertical-align: top;\n",
       "    }\n",
       "\n",
       "    .dataframe thead th {\n",
       "        text-align: right;\n",
       "    }\n",
       "</style>\n",
       "<table border=\"1\" class=\"dataframe\">\n",
       "  <thead>\n",
       "    <tr style=\"text-align: right;\">\n",
       "      <th></th>\n",
       "      <th>Fecha</th>\n",
       "      <th>Valor</th>\n",
       "      <th>SemanaEpi</th>\n",
       "    </tr>\n",
       "  </thead>\n",
       "  <tbody>\n",
       "    <tr>\n",
       "      <th>0</th>\n",
       "      <td>2020-01-01 00:00:00</td>\n",
       "      <td>82.5</td>\n",
       "      <td>1</td>\n",
       "    </tr>\n",
       "    <tr>\n",
       "      <th>1</th>\n",
       "      <td>2020-01-02 00:00:00</td>\n",
       "      <td>76.5</td>\n",
       "      <td>1</td>\n",
       "    </tr>\n",
       "    <tr>\n",
       "      <th>2</th>\n",
       "      <td>2020-01-03 00:00:00</td>\n",
       "      <td>82.0</td>\n",
       "      <td>1</td>\n",
       "    </tr>\n",
       "    <tr>\n",
       "      <th>3</th>\n",
       "      <td>2020-01-04 00:00:00</td>\n",
       "      <td>74.1</td>\n",
       "      <td>1</td>\n",
       "    </tr>\n",
       "    <tr>\n",
       "      <th>4</th>\n",
       "      <td>2020-01-05 00:00:00</td>\n",
       "      <td>83.4</td>\n",
       "      <td>1</td>\n",
       "    </tr>\n",
       "  </tbody>\n",
       "</table>\n",
       "</div>"
      ],
      "text/plain": [
       "                 Fecha Valor  SemanaEpi\n",
       "0  2020-01-01 00:00:00  82.5          1\n",
       "1  2020-01-02 00:00:00  76.5          1\n",
       "2  2020-01-03 00:00:00  82.0          1\n",
       "3  2020-01-04 00:00:00  74.1          1\n",
       "4  2020-01-05 00:00:00  83.4          1"
      ]
     },
     "execution_count": 440,
     "metadata": {},
     "output_type": "execute_result"
    }
   ],
   "source": [
    "ene = DataFrame.rename(enero_, columns={\n",
    "        'ENE': \"Valor\"\n",
    "}, inplace=False)\n",
    "#####\n",
    "feb = DataFrame.rename(febrero_, columns={\n",
    "        'FEB': \"Valor\"\n",
    "}, inplace=False)\n",
    "#####\n",
    "\n",
    "mar = DataFrame.rename(marzo_, columns={\n",
    "        'MAR': \"Valor\"\n",
    "}, inplace=False)\n",
    "#####\n",
    "\n",
    "abr = DataFrame.rename(abril_, columns={\n",
    "        'ABR': \"Valor\"\n",
    "}, inplace=False)\n",
    "#####\n",
    "\n",
    "may = DataFrame.rename(mayo_, columns={\n",
    "        'MAY': \"Valor\"\n",
    "}, inplace=False)\n",
    "#####\n",
    "\n",
    "jun = DataFrame.rename(junio_, columns={\n",
    "        'JUN': \"Valor\"\n",
    "}, inplace=False)\n",
    "#####\n",
    "\n",
    "jul = DataFrame.rename(julio_, columns={\n",
    "        'JUL': \"Valor\"\n",
    "}, inplace=False)\n",
    "#####\n",
    "\n",
    "\n",
    "ago = DataFrame.rename(agosto_, columns={\n",
    "        'AGO': \"Valor\"\n",
    "}, inplace=False)\n",
    "#####\n",
    "\n",
    "sep = DataFrame.rename(septiembre_, columns={\n",
    "        'SEP': \"Valor\"\n",
    "}, inplace=False)\n",
    "#####\n",
    "\n",
    "oct_ = DataFrame.rename(octubre_, columns={\n",
    "        'OCT': \"Valor\"\n",
    "}, inplace=False)\n",
    "#####\n",
    "\n",
    "nov = DataFrame.rename(noviembre_, columns={\n",
    "        'NOV': \"Valor\"\n",
    "}, inplace=False)\n",
    "\n",
    "#####\n",
    "dic = DataFrame.rename(diciembre_, columns={\n",
    "        'DIC': \"Valor\"\n",
    "}, inplace=False)\n",
    "\n",
    "\n",
    "df = concat([ene, feb,mar, abr,may, jun, jul, ago, sep, oct_, nov, dic], ignore_index=True)\n",
    "df = df.fillna(0)\n",
    "df1 = df[df['Fecha'] == 0].index\n",
    "df = df.drop(index=df1.values.tolist())\n",
    "df.head()"
   ]
  },
  {
   "cell_type": "markdown",
   "id": "4693d0d8",
   "metadata": {},
   "source": [
    "# Grabar Datos"
   ]
  },
  {
   "cell_type": "markdown",
   "id": "983b7ca9",
   "metadata": {},
   "source": [
    "## Crear Nueva Excel"
   ]
  },
  {
   "cell_type": "code",
   "execution_count": 441,
   "id": "cd21fb2f",
   "metadata": {},
   "outputs": [
    {
     "name": "stdout",
     "output_type": "stream",
     "text": [
      "--------------['2016', '2017', '2018', '2019', '2020'] Grabado con Exito... :)--------------\n"
     ]
    }
   ],
   "source": [
    "if os.path.exists(f'Trabajadas/{bookName}.xlsx') == True:\n",
    "    wl = load_workbook(f'Trabajadas/{bookName}.xlsx')\n",
    "else:\n",
    "    wl = Workbook(f'Trabajadas/{bookName}.xlsx')\n",
    "\n",
    "sheet = wl.create_sheet(ano)\n",
    "\n",
    "ws = wl.active\n",
    "column = df.columns.values.tolist()\n",
    "sheet.append(column)\n",
    "for i in df.values.tolist():\n",
    "    sheet.append(i)\n",
    "try:\n",
    "    wl.save(f'Trabajadas/{bookName}.xlsx')\n",
    "    print(f\"--------------{wl.sheetnames} Grabado con Exito... :)--------------\")\n",
    "except PermissionError:\n",
    "    print(f\"No tiene permiso o el documento '{bookName}' se encuentra abierto. :(\")"
   ]
  },
  {
   "cell_type": "code",
   "execution_count": null,
   "id": "d3dd36f6",
   "metadata": {},
   "outputs": [],
   "source": []
  }
 ],
 "metadata": {
  "kernelspec": {
   "display_name": "Python 3 (ipykernel)",
   "language": "python",
   "name": "python3"
  },
  "language_info": {
   "codemirror_mode": {
    "name": "ipython",
    "version": 3
   },
   "file_extension": ".py",
   "mimetype": "text/x-python",
   "name": "python",
   "nbconvert_exporter": "python",
   "pygments_lexer": "ipython3",
   "version": "3.9.4"
  }
 },
 "nbformat": 4,
 "nbformat_minor": 5
}
